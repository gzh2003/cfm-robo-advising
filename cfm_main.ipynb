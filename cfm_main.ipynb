{
 "cells": [
  {
   "cell_type": "code",
   "execution_count": null,
   "metadata": {},
   "outputs": [],
   "source": [
    "from IPython.display import display, Math, Latex\n",
    "\n",
    "import pandas as pd\n",
    "import numpy as np\n",
    "import numpy_financial as npf\n",
    "import yfinance as yf\n",
    "import matplotlib.pyplot as plt\n",
    "from datetime import datetime"
   ]
  },
  {
   "cell_type": "markdown",
   "metadata": {},
   "source": [
    "## Group Assignment\n",
    "### Team Number: 9\n",
    "### Team Member Names: Germain, Padtmesh, Jin\n",
    "### Team Strategy Chosen: Safe"
   ]
  },
  {
   "cell_type": "code",
   "execution_count": null,
   "metadata": {},
   "outputs": [],
   "source": [
    "def filterByDenom(ticker):\n",
    "    # print(ticker)\n",
    "    # print('------------------------')\n",
    "    # print(ticker.info['currency'])\n",
    "    # print('------------------------')\n",
    "    return ticker.info['currency'] != 'USD'\n",
    "\n",
    "def filterByVol(hist):\n",
    "    # print(hist['Volume'])\n",
    "    return  hist['Volume'].mean() < 200000\n",
    "\n",
    "def filterByTDays(df_hist):\n",
    "    df = df_hist.copy()\n",
    "    for month in range(1, 12):\n",
    "        idx = pd.to_datetime(df.index).month\n",
    "        df_month = df.loc[idx == month]\n",
    "        if (len(df_month) < 20):\n",
    "            df.drop(df.loc[idx == month].index)\n",
    "    return df\n",
    "\n"
   ]
  },
  {
   "cell_type": "code",
   "execution_count": null,
   "metadata": {},
   "outputs": [],
   "source": [
    "def getHist(tickers):\n",
    "    # Set defaults for timeframe\n",
    "    start_date = '2022-01-01'\n",
    "    end_date = '2022-11-01' # adjustment for non-inclusive param end\n",
    "\n",
    "    # Create dataframe to hold historic data from tickers\n",
    "    df_sv = pd.DataFrame()\n",
    "\n",
    "    # Get the closing price of each ticker \n",
    "    for tick in tickers['Tickers']:\n",
    "        # Call API for ticker data\n",
    "        temp = yf.Ticker(tick)\n",
    "\n",
    "        # Get historical data\n",
    "        #   Note: the method history() prints out the delisted message\n",
    "        temp_hist = temp.history(start=start_date, end=end_date, interval='1d')\n",
    "\n",
    "        # Apply filters\n",
    "        if (not temp_hist.empty) and (not (filterByDenom(temp) or filterByVol(temp_hist))):\n",
    "            # Get Closing Price as a DataFrame\n",
    "            df_sv[tick] = pd.DataFrame(temp_hist['Close'])\n",
    "\n",
    "    # Remove indeterminate or faulty values\n",
    "    df_sv.dropna(axis=1,how='all',inplace = True)\n",
    "    df_sv.dropna(inplace = True)\n",
    "    # df_sv = filterByTDays(df_sv, start_date, end_date)\n",
    "    return df_sv"
   ]
  },
  {
   "cell_type": "code",
   "execution_count": null,
   "metadata": {},
   "outputs": [],
   "source": [
    "def sorHistPct(df_pct):\n",
    "    return df_pct.reindex(df_pct.std().sort_values().index, axis=1)"
   ]
  },
  {
   "cell_type": "code",
   "execution_count": null,
   "metadata": {},
   "outputs": [],
   "source": [
    "# Random simulation\n",
    "# alternative could be to iterate completely over the searchspace\n",
    "# however assuming an upperbound of 1000(even 100) nCr with 25 stocks would be too slow\n",
    "# instead we could generate random portfolios up to 10^x iterations\n",
    "# depending on x we can approximate it to a decent degree of accuracy\n",
    "\n",
    "def getReturns(pct, weights):\n",
    "    return (np.sum(pct.mean() * weights)) * 253\n",
    "\n",
    "# May have to pivot to dot function if @ operator isnt supported\n",
    "def getStd(pct, weights):\n",
    "    return np.sqrt(np.transpose(weights) @ (pct.cov() * 253) @ weights)\n",
    "\n",
    "def randSimulation(pct):\n",
    "    n = 10**4 # possibly 5\n",
    "    ticker_count = len(pct.columns)\n",
    "    # print(ticker_count)\n",
    "    list_return = []\n",
    "    list_std = []\n",
    "    list_weight = []\n",
    "    # Generate n random portfolios\n",
    "    for p in range(n):\n",
    "        # Get random values between 0 and 1\n",
    "        # Adjust random values to be from 0.02 to 0.25\n",
    "        # Use numpy uniform random array generation as range is low and we want to avoid non-concentrated distributions\n",
    "        # weights = np.random.random(size = ticker_count)  \n",
    "        weights = np.random.uniform(size= ticker_count)\n",
    "        # Establishing lower bound for randm portfolio genertion\n",
    "        low = 0.02\n",
    "        temp = weights\n",
    "        temp = (temp/temp.sum()*(1-low*ticker_count))\n",
    "        weights = temp+low\n",
    "        # Divide random values by sum to get weights\n",
    "        # weights /= np.sum(weights) \n",
    "        list_weight.append(weights)\n",
    "        list_return.append(getReturns(pct,weights))\n",
    "        list_std.append(getStd(pct,weights))\n",
    "\n",
    "    # Convert list to np arrays\n",
    "    arr_return = np.array(list_return)\n",
    "    arr_std = np.array(list_std)\n",
    "    print('generated weights')\n",
    "    print(list_weight)\n",
    "    print(ticker_count)\n",
    "    print(round(max(arr_return), 4))\n",
    "    print(round(min(arr_return), 4))\n",
    "    print(round(max(arr_std), 4))\n",
    "    print(round(min(arr_std), 4))\n",
    "    return arr_return, arr_std, list_weight\n",
    "\n",
    "\n",
    "\n",
    "def graphSimulation(returns, stds, weights):\n",
    "    maxs_index = np.argmax(returns/stds)\n",
    "    maxs_std = stds[maxs_index] \n",
    "    maxs_return = returns[maxs_index] \n",
    "    ms_weight = weights[maxs_index]\n",
    "    \n",
    "    minv_index = np.argmin(stds)\n",
    "    minv_std = stds[minv_index]\n",
    "    minv_return = returns[minv_index]\n",
    "    minv_weight = weights[minv_index]\n",
    "\n",
    "    # print(minv_weight)\n",
    "\n",
    "    plt.figure(figsize=(20, 10))\n",
    "\n",
    "    plt.scatter(stds,returns, c=(returns/stds), cmap='viridis', s=12, alpha=0.4)\n",
    "\n",
    "    plt.scatter(maxs_std,maxs_return,c='r' , s=120,marker='D', label='Maximum Sharpe Ratio Portfolio')\n",
    "    plt.scatter(minv_std,minv_return,c='b', s=120, marker='D',label='Minimum Volatility Portfolio')\n",
    "\n",
    "    plt.colorbar(label='Sharpe Ratio')\n",
    "\n",
    "    plt.legend()\n",
    "    plt.title(' Volatility-Returns from Portfolio Optimization')\n",
    "    plt.xlabel('Annualized Portfolio Volatility')\n",
    "    plt.ylabel('Annualized Portfolio Returns')\n",
    "    "
   ]
  },
  {
   "cell_type": "code",
   "execution_count": null,
   "metadata": {},
   "outputs": [],
   "source": [
    "# def createPortFinal():\n"
   ]
  },
  {
   "cell_type": "code",
   "execution_count": null,
   "metadata": {},
   "outputs": [],
   "source": [
    "# def createStocksFinal():\n"
   ]
  },
  {
   "cell_type": "code",
   "execution_count": null,
   "metadata": {},
   "outputs": [],
   "source": [
    "# Read in csv file containing tickers\n",
    "tickers = pd.read_csv('Tickers.csv', names = ['Tickers'])\n",
    "tickers.head()"
   ]
  },
  {
   "cell_type": "code",
   "execution_count": null,
   "metadata": {},
   "outputs": [],
   "source": [
    "# Get Historic Data for each ticker\n",
    "hist = getHist(tickers)\n",
    "hist.head()\n",
    "\n",
    "# Filter data\n",
    "\n"
   ]
  },
  {
   "cell_type": "code",
   "execution_count": null,
   "metadata": {},
   "outputs": [],
   "source": [
    "# Construct dataframe of percentage change of each stock\n",
    "hist_pct = hist.pct_change()\n",
    "\n",
    "# Sort hist_pct based on std\n",
    "hist_pct = sorHistPct(hist_pct)\n",
    "\n",
    "# Create new dataframe inplace from the first 25 tickers\n",
    "hist_pct = hist_pct.iloc[:,:25]\n",
    "hist_pct.head()"
   ]
  },
  {
   "cell_type": "code",
   "execution_count": null,
   "metadata": {},
   "outputs": [],
   "source": [
    "\n",
    "gen_return, gen_std, gen_weights = randSimulation(hist_pct)\n",
    "graphSimulation(gen_return, gen_std, gen_weights)"
   ]
  },
  {
   "cell_type": "markdown",
   "metadata": {},
   "source": [
    "## Contribution Declaration\n",
    "\n",
    "The following team members made a meaningful contribution to this assignment:\n",
    "\n",
    "Insert Names Here."
   ]
  }
 ],
 "metadata": {
  "kernelspec": {
   "display_name": "Python 3.10.4 64-bit",
   "language": "python",
   "name": "python3"
  },
  "language_info": {
   "codemirror_mode": {
    "name": "ipython",
    "version": 3
   },
   "file_extension": ".py",
   "mimetype": "text/x-python",
   "name": "python",
   "nbconvert_exporter": "python",
   "pygments_lexer": "ipython3",
   "version": "3.10.6"
  },
  "vscode": {
   "interpreter": {
    "hash": "916dbcbb3f70747c44a77c7bcd40155683ae19c65e1c03b4aa3499c5328201f1"
   }
  }
 },
 "nbformat": 4,
 "nbformat_minor": 2
}
