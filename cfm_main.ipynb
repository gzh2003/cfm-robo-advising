{
 "cells": [
  {
   "cell_type": "code",
   "execution_count": null,
   "metadata": {},
   "outputs": [],
   "source": [
    "from IPython.display import display, Math, Latex\n",
    "\n",
    "import pandas as pd\n",
    "import numpy as np\n",
    "import numpy_financial as npf\n",
    "import yfinance as yf\n",
    "import matplotlib.pyplot as plt\n",
    "from datetime import datetime"
   ]
  },
  {
   "cell_type": "markdown",
   "metadata": {},
   "source": [
    "## Group Assignment\n",
    "### Team Number: 9\n",
    "### Team Member Names: Germain, Padtmesh, Jin\n",
    "### Team Strategy Chosen: Safe"
   ]
  },
  {
   "cell_type": "code",
   "execution_count": null,
   "metadata": {},
   "outputs": [],
   "source": [
    "def filterByDenom(ticker):\n",
    "    # Check if a stock is a \"US listed stock\"\n",
    "    return ticker.info['currency'] != 'USD'\n",
    "\n",
    "def filterByVol(hist):\n",
    "    # Check the average monthly volume\n",
    "    return  hist['Volume'].mean() < 200000\n",
    "\n",
    "def filterByTDays(df_hist):\n",
    "    df = df_hist.copy()\n",
    "    # Iterate across time range with months January to October\n",
    "    for month in range(1, 11):\n",
    "        # Get numerical month value of each index\n",
    "        idx = pd.to_datetime(df.index).month\n",
    "        # Get subset of df_hist of a specific month\n",
    "        df_month = df.loc[idx == month]\n",
    "        # Filter by number of entries/trading days for a specific month \n",
    "        if (len(df_month) < 20):\n",
    "            df.drop(df[idx == month].index, inplace=True)\n",
    "    return df\n",
    "\n"
   ]
  },
  {
   "cell_type": "code",
   "execution_count": null,
   "metadata": {},
   "outputs": [],
   "source": [
    "def getHist(tickers):\n",
    "    # Set defaults for timeframe\n",
    "    start_date = '2022-01-01'\n",
    "    end_date = '2022-11-01' # adjustment for non-inclusive param end\n",
    "\n",
    "    # Create dataframe to hold historic data from tickers\n",
    "    df_sv = pd.DataFrame()\n",
    "\n",
    "    # Get the closing price of each ticker \n",
    "    for tick in tickers['Tickers']:\n",
    "        # Call API for ticker data\n",
    "        temp = yf.Ticker(tick)\n",
    "\n",
    "        # Get historical data\n",
    "        #   Note: the method history() prints out the delisted message\n",
    "        temp_hist = temp.history(start=start_date, end=end_date, interval='1d')\n",
    "\n",
    "        # Filter by denom and volume of non-delisted tickers\n",
    "        if (not temp_hist.empty) and (not (filterByDenom(temp) or filterByVol(temp_hist))):\n",
    "            # Get Closing Price as a DataFrame\n",
    "            df_sv[tick] = pd.DataFrame(temp_hist['Close'])\n",
    "\n",
    "    # Remove indeterminate or faulty values\n",
    "    df_sv.dropna(axis=1,how='all',inplace = True)\n",
    "    df_sv.dropna(inplace = True)\n",
    "\n",
    "    # Filter by number of trading days\n",
    "    df_sv = filterByTDays(df_sv)\n",
    "    return df_sv"
   ]
  },
  {
   "cell_type": "code",
   "execution_count": null,
   "metadata": {},
   "outputs": [],
   "source": [
    "def sorHistPct(df_pct):\n",
    "    # Sort arrays by std\n",
    "    return df_pct.reindex(df_pct.std().sort_values().index, axis=1)"
   ]
  },
  {
   "cell_type": "code",
   "execution_count": null,
   "metadata": {},
   "outputs": [],
   "source": [
    "def getReturns(pct, weights):\n",
    "    # Calculate annuzalized returns\n",
    "    return (np.sum(pct.mean() * weights)) * 253\n",
    "\n",
    "def getStd(pct, weights):\n",
    "    # Calculate annuzalized std\n",
    "    return np.sqrt(np.transpose(weights) @ (pct.cov() * 253) @ weights)\n",
    "\n",
    "def randSimulation(pct):\n",
    "    # Number of random portolfios to generate\n",
    "    # Possible consideration is n = 10**5 since it provides a more accurate approximation\n",
    "        # Note: generation 10**x portfolios where x>5 produces negligible results\n",
    "        #   and the benefits are largely outweighed by the runtime\n",
    "    n = 10**4 \n",
    "    \n",
    "    # Get the number of tickers\n",
    "    ticker_count = len(pct.columns)\n",
    "\n",
    "    # Lists to store portfolio data\n",
    "    list_return = []\n",
    "    list_std = []\n",
    "    list_weight = []\n",
    "\n",
    "    # Generate n random portfolios\n",
    "    for p in range(n):\n",
    "        # Get random values between 0 and 1\n",
    "        #   Note: we use the uniform generation method as we want the samples to be dispersed evenly \n",
    "        weights = np.random.uniform(size= ticker_count)\n",
    "\n",
    "        # Calculating and establishing lower bound for random portfolio weights\n",
    "        #   Note: in establishing this lower bound we no longer need to consider the upper bound as it \n",
    "        #       would be impossible for any one ticker to have more than 25% allocation with the given lower bound\n",
    "        low = 0.02\n",
    "        temp = weights\n",
    "        temp = (temp/temp.sum()*(1-low*ticker_count))\n",
    "        weights = temp+low\n",
    "\n",
    "        # Store randomly generated portfolio data in lists\n",
    "        list_weight.append(weights)\n",
    "        list_return.append(getReturns(pct,weights))\n",
    "        list_std.append(getStd(pct,weights))\n",
    "\n",
    "    # Convert list to np arrays\n",
    "    arr_return = np.array(list_return)\n",
    "    arr_std = np.array(list_std)\n",
    "    arr_weight = np.array(list_weight)\n",
    "\n",
    "    return arr_return, arr_std, arr_weight\n",
    "\n",
    "\n",
    "\n",
    "def graphSimulation(returns, stds, weights):\n",
    "    # Get information for max sharpe ratio portfolio\n",
    "    maxs_index = np.argmax(returns/stds)\n",
    "    maxs_std = stds[maxs_index] \n",
    "    maxs_return = returns[maxs_index] \n",
    "    ms_weight = weights[maxs_index]\n",
    "    \n",
    "    # Get information for min volatility portfolio\n",
    "    minv_index = np.argmin(stds)\n",
    "    minv_std = stds[minv_index]\n",
    "    minv_return = returns[minv_index]\n",
    "    minv_weight = weights[minv_index]\n",
    "\n",
    "    print('Min Volatility Portfolio Weights:')\n",
    "    print(minv_weight)\n",
    "\n",
    "    print('Min Volatility:')\n",
    "    print(minv_std)\n",
    "\n",
    "    # Adjust figure size\n",
    "    plt.figure(figsize=(20, 10))\n",
    "\n",
    "    # Plot generated portfolios\n",
    "    plt.scatter(stds,returns, c=(returns/stds), cmap='winter', s=12, alpha=0.4)\n",
    "    plt.colorbar(label='Sharpe Ratio', shrink=0.7, cmap='winter')\n",
    "\n",
    "    # Plot max sharpe ratio portoflio\n",
    "    plt.scatter(maxs_std,maxs_return,c='plum' , s=120,marker='D', label='Maximum Sharpe Ratio Portfolio')\n",
    "    # Plot min volatility portfolio\n",
    "    plt.scatter(minv_std,minv_return,c='palevioletred', s=120, marker='D',label='Minimum Volatility Portfolio')\n",
    "\n",
    "    # Labels and elements \n",
    "    plt.legend()\n",
    "    plt.title(' Volatility-Returns of Generated Portfolios')\n",
    "    plt.xlabel('Annualized Portfolio Volatility')\n",
    "    plt.ylabel('Annualized Portfolio Returns')\n",
    "    "
   ]
  },
  {
   "cell_type": "code",
   "execution_count": null,
   "metadata": {},
   "outputs": [],
   "source": [
    "# def createPortFinal():\n"
   ]
  },
  {
   "cell_type": "code",
   "execution_count": null,
   "metadata": {},
   "outputs": [],
   "source": [
    "# def createStocksFinal():\n"
   ]
  },
  {
   "cell_type": "code",
   "execution_count": null,
   "metadata": {},
   "outputs": [],
   "source": [
    "# Read in csv file containing tickers\n",
    "tickers = pd.read_csv('Tickers.csv', names = ['Tickers'])\n",
    "display(tickers)"
   ]
  },
  {
   "cell_type": "code",
   "execution_count": null,
   "metadata": {},
   "outputs": [],
   "source": [
    "# Get Historic Data for each ticker\n",
    "hist = getHist(tickers)\n",
    "pd.set_option('display.max_rows', None)"
   ]
  },
  {
   "cell_type": "code",
   "execution_count": null,
   "metadata": {},
   "outputs": [],
   "source": [
    "# Construct dataframe of percentage change of each stock\n",
    "hist_pct = hist.pct_change()\n",
    "\n",
    "# Sort hist_pct based on std\n",
    "hist_pct = sorHistPct(hist_pct)\n",
    "\n",
    "# Create new dataframe inplace from the first 25 tickers (25 lowest std)\n",
    "hist_pct = hist_pct.iloc[:,:25]"
   ]
  },
  {
   "cell_type": "code",
   "execution_count": null,
   "metadata": {},
   "outputs": [],
   "source": [
    "# Get data from randomly generated portfolios\n",
    "gen_return, gen_std, gen_weights = randSimulation(hist_pct)"
   ]
  },
  {
   "cell_type": "code",
   "execution_count": null,
   "metadata": {},
   "outputs": [],
   "source": [
    "# Graph randomly generated portfolios\n",
    "graphSimulation(gen_return, gen_std, gen_weights)"
   ]
  },
  {
   "cell_type": "code",
   "execution_count": null,
   "metadata": {},
   "outputs": [],
   "source": [
    "# Create Portfolio Final and Stocks Final here"
   ]
  },
  {
   "cell_type": "markdown",
   "metadata": {},
   "source": [
    "## Contribution Declaration\n",
    "\n",
    "The following team members made a meaningful contribution to this assignment:\n",
    "\n",
    "Insert Names Here."
   ]
  }
 ],
 "metadata": {
  "kernelspec": {
   "display_name": "Python 3.10.4 64-bit",
   "language": "python",
   "name": "python3"
  },
  "language_info": {
   "codemirror_mode": {
    "name": "ipython",
    "version": 3
   },
   "file_extension": ".py",
   "mimetype": "text/x-python",
   "name": "python",
   "nbconvert_exporter": "python",
   "pygments_lexer": "ipython3",
   "version": "3.10.6"
  },
  "vscode": {
   "interpreter": {
    "hash": "916dbcbb3f70747c44a77c7bcd40155683ae19c65e1c03b4aa3499c5328201f1"
   }
  }
 },
 "nbformat": 4,
 "nbformat_minor": 2
}
